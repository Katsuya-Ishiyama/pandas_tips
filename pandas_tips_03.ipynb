{
 "cells": [
  {
   "cell_type": "markdown",
   "metadata": {},
   "source": [
    "# 3. 複数の値を条件にしてレコードを抽出したい\n",
    "ゲーム内アイテム購入データから、特定の`user_id`を持つレコードを抽出したいとします。  "
   ]
  },
  {
   "cell_type": "code",
   "execution_count": 1,
   "metadata": {},
   "outputs": [],
   "source": [
    "from itertools import product\n",
    "from matplotlib import pyplot as plt\n",
    "import numpy as np\n",
    "import pandas as pd\n",
    "from utilities.process_time import PandasProcessTimeMeasure\n",
    "\n",
    "plt.rcParams['font.size'] = 12\n",
    "plt.rcParams['figure.figsize'] = (10, 6)"
   ]
  },
  {
   "cell_type": "code",
   "execution_count": 2,
   "metadata": {},
   "outputs": [
    {
     "data": {
      "text/html": [
       "<div>\n",
       "<style scoped>\n",
       "    .dataframe tbody tr th:only-of-type {\n",
       "        vertical-align: middle;\n",
       "    }\n",
       "\n",
       "    .dataframe tbody tr th {\n",
       "        vertical-align: top;\n",
       "    }\n",
       "\n",
       "    .dataframe thead th {\n",
       "        text-align: right;\n",
       "    }\n",
       "</style>\n",
       "<table border=\"1\" class=\"dataframe\">\n",
       "  <thead>\n",
       "    <tr style=\"text-align: right;\">\n",
       "      <th></th>\n",
       "      <th>user_id</th>\n",
       "      <th>date</th>\n",
       "      <th>item_id</th>\n",
       "      <th>item_name</th>\n",
       "      <th>item_purchase_count</th>\n",
       "      <th>payment</th>\n",
       "    </tr>\n",
       "  </thead>\n",
       "  <tbody>\n",
       "    <tr>\n",
       "      <th>0</th>\n",
       "      <td>2855</td>\n",
       "      <td>2018-04-14</td>\n",
       "      <td>5</td>\n",
       "      <td>item005</td>\n",
       "      <td>4</td>\n",
       "      <td>6000</td>\n",
       "    </tr>\n",
       "    <tr>\n",
       "      <th>1</th>\n",
       "      <td>9634</td>\n",
       "      <td>2018-05-23</td>\n",
       "      <td>4</td>\n",
       "      <td>item004</td>\n",
       "      <td>4</td>\n",
       "      <td>6000</td>\n",
       "    </tr>\n",
       "    <tr>\n",
       "      <th>2</th>\n",
       "      <td>5936</td>\n",
       "      <td>2018-05-28</td>\n",
       "      <td>10</td>\n",
       "      <td>item010</td>\n",
       "      <td>4</td>\n",
       "      <td>6000</td>\n",
       "    </tr>\n",
       "    <tr>\n",
       "      <th>3</th>\n",
       "      <td>6635</td>\n",
       "      <td>2018-03-08</td>\n",
       "      <td>9</td>\n",
       "      <td>item009</td>\n",
       "      <td>0</td>\n",
       "      <td>0</td>\n",
       "    </tr>\n",
       "    <tr>\n",
       "      <th>4</th>\n",
       "      <td>8864</td>\n",
       "      <td>2018-05-27</td>\n",
       "      <td>9</td>\n",
       "      <td>item009</td>\n",
       "      <td>0</td>\n",
       "      <td>0</td>\n",
       "    </tr>\n",
       "  </tbody>\n",
       "</table>\n",
       "</div>"
      ],
      "text/plain": [
       "   user_id        date  item_id item_name  item_purchase_count  payment\n",
       "0     2855  2018-04-14        5   item005                    4     6000\n",
       "1     9634  2018-05-23        4   item004                    4     6000\n",
       "2     5936  2018-05-28       10   item010                    4     6000\n",
       "3     6635  2018-03-08        9   item009                    0        0\n",
       "4     8864  2018-05-27        9   item009                    0        0"
      ]
     },
     "execution_count": 2,
     "metadata": {},
     "output_type": "execute_result"
    }
   ],
   "source": [
    "item_data = pd.read_csv('./data/game_user_item.csv')\n",
    "item_data.head(5)"
   ]
  },
  {
   "cell_type": "markdown",
   "metadata": {},
   "source": [
    "このような場合、\n",
    "\n",
    "```python\n",
    "is_user1 = (item_data.user_id == 1)\n",
    "is_user2 = (item_data.user_id == 2)\n",
    "is_user3 = (item_data.user_id == 3)\n",
    "item_data.loc[is_user1 & is_user2 & is_user3, :]\n",
    "```\n",
    "\n",
    "とすると処理効率が1番良さそうです。  \n",
    "しかし、データ分析では特定の条件を満たすユーザーを抽出したい場合がほとんどなので、　このように少数が対象になることはなく、また、対象者数は変動するものなので、このコードは採用しづらいです。  \n",
    "そこでDataFrameに実装されている`isin`メソッドを使うと\n",
    "\n",
    "```python\n",
    "target_user_id = [1, 2, 3]\n",
    "item_data.loc[item_data.user_id.isin(target_user_id), :]\n",
    "```\n",
    "\n",
    "となり、target_user_idを外部変数として与えることが簡単になるので、運用しやすいコードが書けます。   \n",
    "しかし、この`isin`メソッドはなぜか動作が遅く、1000万件のデータに対して使えないことが問題になります。  \n",
    "今回はこの場合について検証します。"
   ]
  },
  {
   "cell_type": "markdown",
   "metadata": {},
   "source": [
    "## 方法1　isinメソッドを使った場合\n",
    "まずはベンチマークとして`isin`メソッドを使った方法です。  \n",
    "コードの記述が完結になるのが１番の魅力です。"
   ]
  },
  {
   "cell_type": "code",
   "execution_count": 18,
   "metadata": {},
   "outputs": [],
   "source": [
    "TEST_TARGET_USER_ID = [2855, 6635]"
   ]
  },
  {
   "cell_type": "code",
   "execution_count": 19,
   "metadata": {},
   "outputs": [
    {
     "data": {
      "text/html": [
       "<div>\n",
       "<style scoped>\n",
       "    .dataframe tbody tr th:only-of-type {\n",
       "        vertical-align: middle;\n",
       "    }\n",
       "\n",
       "    .dataframe tbody tr th {\n",
       "        vertical-align: top;\n",
       "    }\n",
       "\n",
       "    .dataframe thead th {\n",
       "        text-align: right;\n",
       "    }\n",
       "</style>\n",
       "<table border=\"1\" class=\"dataframe\">\n",
       "  <thead>\n",
       "    <tr style=\"text-align: right;\">\n",
       "      <th></th>\n",
       "      <th>user_id</th>\n",
       "      <th>date</th>\n",
       "      <th>item_id</th>\n",
       "      <th>item_name</th>\n",
       "      <th>item_purchase_count</th>\n",
       "      <th>payment</th>\n",
       "    </tr>\n",
       "  </thead>\n",
       "  <tbody>\n",
       "    <tr>\n",
       "      <th>0</th>\n",
       "      <td>2855</td>\n",
       "      <td>2018-04-14</td>\n",
       "      <td>5</td>\n",
       "      <td>item005</td>\n",
       "      <td>4</td>\n",
       "      <td>6000</td>\n",
       "    </tr>\n",
       "    <tr>\n",
       "      <th>3</th>\n",
       "      <td>6635</td>\n",
       "      <td>2018-03-08</td>\n",
       "      <td>9</td>\n",
       "      <td>item009</td>\n",
       "      <td>0</td>\n",
       "      <td>0</td>\n",
       "    </tr>\n",
       "  </tbody>\n",
       "</table>\n",
       "</div>"
      ],
      "text/plain": [
       "   user_id        date  item_id item_name  item_purchase_count  payment\n",
       "0     2855  2018-04-14        5   item005                    4     6000\n",
       "3     6635  2018-03-08        9   item009                    0        0"
      ]
     },
     "execution_count": 19,
     "metadata": {},
     "output_type": "execute_result"
    }
   ],
   "source": [
    "def method1(data, user_id):\n",
    "    _data = data.copy()\n",
    "    is_target_user = _data.user_id.isin(user_id)\n",
    "    result = _data.loc[is_target_user, :]\n",
    "    return result\n",
    "\n",
    "method1(item_data.iloc[:100, :], TEST_TARGET_USER_ID).head()"
   ]
  },
  {
   "cell_type": "markdown",
   "metadata": {},
   "source": [
    "## 方法2　mapで対象アイテムにフラグを立てて抽出する\n",
    "次は`map`メソッドを使って抽出対象にフラグを立てて抽出する方法です。  \n",
    "`isin`メソッドの場合と同じような気がしますが、一応、検証してみます。"
   ]
  },
  {
   "cell_type": "code",
   "execution_count": 20,
   "metadata": {},
   "outputs": [
    {
     "data": {
      "text/html": [
       "<div>\n",
       "<style scoped>\n",
       "    .dataframe tbody tr th:only-of-type {\n",
       "        vertical-align: middle;\n",
       "    }\n",
       "\n",
       "    .dataframe tbody tr th {\n",
       "        vertical-align: top;\n",
       "    }\n",
       "\n",
       "    .dataframe thead th {\n",
       "        text-align: right;\n",
       "    }\n",
       "</style>\n",
       "<table border=\"1\" class=\"dataframe\">\n",
       "  <thead>\n",
       "    <tr style=\"text-align: right;\">\n",
       "      <th></th>\n",
       "      <th>user_id</th>\n",
       "      <th>date</th>\n",
       "      <th>item_id</th>\n",
       "      <th>item_name</th>\n",
       "      <th>item_purchase_count</th>\n",
       "      <th>payment</th>\n",
       "    </tr>\n",
       "  </thead>\n",
       "  <tbody>\n",
       "    <tr>\n",
       "      <th>0</th>\n",
       "      <td>2855</td>\n",
       "      <td>2018-04-14</td>\n",
       "      <td>5</td>\n",
       "      <td>item005</td>\n",
       "      <td>4</td>\n",
       "      <td>6000</td>\n",
       "    </tr>\n",
       "    <tr>\n",
       "      <th>3</th>\n",
       "      <td>6635</td>\n",
       "      <td>2018-03-08</td>\n",
       "      <td>9</td>\n",
       "      <td>item009</td>\n",
       "      <td>0</td>\n",
       "      <td>0</td>\n",
       "    </tr>\n",
       "  </tbody>\n",
       "</table>\n",
       "</div>"
      ],
      "text/plain": [
       "   user_id        date  item_id item_name  item_purchase_count  payment\n",
       "0     2855  2018-04-14        5   item005                    4     6000\n",
       "3     6635  2018-03-08        9   item009                    0        0"
      ]
     },
     "execution_count": 20,
     "metadata": {},
     "output_type": "execute_result"
    }
   ],
   "source": [
    "def method2(data, user_id):\n",
    "    _data = data.copy()\n",
    "    is_target_user = _data.user_id.map(lambda i: i in user_id)\n",
    "    result = _data.loc[is_target_user, :]\n",
    "    return result\n",
    "\n",
    "method2(item_data.iloc[:100, :], TEST_TARGET_USER_ID).head()"
   ]
  },
  {
   "cell_type": "markdown",
   "metadata": {},
   "source": [
    "## 方法3　mergeを使って抽出対象にフラグを立てて抽出する"
   ]
  },
  {
   "cell_type": "code",
   "execution_count": 22,
   "metadata": {},
   "outputs": [
    {
     "data": {
      "text/html": [
       "<div>\n",
       "<style scoped>\n",
       "    .dataframe tbody tr th:only-of-type {\n",
       "        vertical-align: middle;\n",
       "    }\n",
       "\n",
       "    .dataframe tbody tr th {\n",
       "        vertical-align: top;\n",
       "    }\n",
       "\n",
       "    .dataframe thead th {\n",
       "        text-align: right;\n",
       "    }\n",
       "</style>\n",
       "<table border=\"1\" class=\"dataframe\">\n",
       "  <thead>\n",
       "    <tr style=\"text-align: right;\">\n",
       "      <th></th>\n",
       "      <th>user_id</th>\n",
       "      <th>date</th>\n",
       "      <th>item_id</th>\n",
       "      <th>item_name</th>\n",
       "      <th>item_purchase_count</th>\n",
       "      <th>payment</th>\n",
       "      <th>is_target</th>\n",
       "    </tr>\n",
       "  </thead>\n",
       "  <tbody>\n",
       "    <tr>\n",
       "      <th>0</th>\n",
       "      <td>2855</td>\n",
       "      <td>2018-04-14</td>\n",
       "      <td>5</td>\n",
       "      <td>item005</td>\n",
       "      <td>4</td>\n",
       "      <td>6000</td>\n",
       "      <td>1.0</td>\n",
       "    </tr>\n",
       "    <tr>\n",
       "      <th>3</th>\n",
       "      <td>6635</td>\n",
       "      <td>2018-03-08</td>\n",
       "      <td>9</td>\n",
       "      <td>item009</td>\n",
       "      <td>0</td>\n",
       "      <td>0</td>\n",
       "      <td>1.0</td>\n",
       "    </tr>\n",
       "  </tbody>\n",
       "</table>\n",
       "</div>"
      ],
      "text/plain": [
       "   user_id        date  item_id item_name  item_purchase_count  payment  \\\n",
       "0     2855  2018-04-14        5   item005                    4     6000   \n",
       "3     6635  2018-03-08        9   item009                    0        0   \n",
       "\n",
       "   is_target  \n",
       "0        1.0  \n",
       "3        1.0  "
      ]
     },
     "execution_count": 22,
     "metadata": {},
     "output_type": "execute_result"
    }
   ],
   "source": [
    "def method3(data, user_id):\n",
    "    _data = data.copy()\n",
    "    flag_table = pd.DataFrame(\n",
    "        data={\n",
    "            'user_id': user_id,\n",
    "            'is_target': [1] * len(user_id)\n",
    "        }\n",
    "    )\n",
    "    tmp = _data.merge(\n",
    "        right=flag_table,\n",
    "        on=['user_id'],\n",
    "        how='left'\n",
    "    )\n",
    "    result = tmp.loc[tmp.is_target == 1, :].copy()\n",
    "    return result\n",
    "\n",
    "method3(item_data.iloc[:100,:], TEST_TARGET_USER_ID).head()"
   ]
  },
  {
   "cell_type": "markdown",
   "metadata": {},
   "source": [
    "## 検証結果\n",
    "### 対象者数を10に限定して、方法1〜3を20000件までのデータで比較"
   ]
  },
  {
   "cell_type": "code",
   "execution_count": 11,
   "metadata": {},
   "outputs": [],
   "source": [
    "def generate_target_user_id_list(n):\n",
    "    user_id_list = item_data.user_id.unique()\n",
    "    return np.random.choice(user_id_list, size=n).tolist()"
   ]
  },
  {
   "cell_type": "code",
   "execution_count": 23,
   "metadata": {
    "scrolled": true
   },
   "outputs": [
    {
     "data": {
      "image/png": "[encoded data removed]",
      "text/plain": [
       "<Figure size 432x288 with 1 Axes>"
      ]
     },
     "metadata": {
      "needs_background": "light"
     },
     "output_type": "display_data"
    }
   ],
   "source": [
    "TARGET_USER_ID = generate_target_user_id_list(10)\n",
    "process_time_measure = PandasProcessTimeMeasure(\n",
    "    data=item_data,\n",
    "    sample_sizes=[100, 500, 1000, 5000, 10000, 20000]\n",
    ")\n",
    "process_time_measure.set_method(name='method01', method=lambda x: method1(x, TARGET_USER_ID))\n",
    "process_time_measure.set_method(name='method02', method=lambda x: method2(x, TARGET_USER_ID))\n",
    "process_time_measure.set_method(name='method03', method=lambda x: method3(x, TARGET_USER_ID))\n",
    "process_time_measure.measure_process_time_for_each_sample_sizes()\n",
    "process_time_measure.plot_process_time()"
   ]
  },
  {
   "cell_type": "code",
   "execution_count": 8,
   "metadata": {},
   "outputs": [
    {
     "data": {
      "text/html": [
       "<div>\n",
       "<style scoped>\n",
       "    .dataframe tbody tr th:only-of-type {\n",
       "        vertical-align: middle;\n",
       "    }\n",
       "\n",
       "    .dataframe tbody tr th {\n",
       "        vertical-align: top;\n",
       "    }\n",
       "\n",
       "    .dataframe thead th {\n",
       "        text-align: right;\n",
       "    }\n",
       "</style>\n",
       "<table border=\"1\" class=\"dataframe\">\n",
       "  <thead>\n",
       "    <tr style=\"text-align: right;\">\n",
       "      <th></th>\n",
       "      <th>method01</th>\n",
       "      <th>method02</th>\n",
       "      <th>method03</th>\n",
       "    </tr>\n",
       "    <tr>\n",
       "      <th>sample_size</th>\n",
       "      <th></th>\n",
       "      <th></th>\n",
       "      <th></th>\n",
       "    </tr>\n",
       "  </thead>\n",
       "  <tbody>\n",
       "    <tr>\n",
       "      <th>100</th>\n",
       "      <td>0.000600</td>\n",
       "      <td>0.000646</td>\n",
       "      <td>0.003256</td>\n",
       "    </tr>\n",
       "    <tr>\n",
       "      <th>500</th>\n",
       "      <td>0.000625</td>\n",
       "      <td>0.000767</td>\n",
       "      <td>0.003516</td>\n",
       "    </tr>\n",
       "    <tr>\n",
       "      <th>1000</th>\n",
       "      <td>0.000664</td>\n",
       "      <td>0.000908</td>\n",
       "      <td>0.003605</td>\n",
       "    </tr>\n",
       "    <tr>\n",
       "      <th>5000</th>\n",
       "      <td>0.001037</td>\n",
       "      <td>0.002019</td>\n",
       "      <td>0.004828</td>\n",
       "    </tr>\n",
       "    <tr>\n",
       "      <th>10000</th>\n",
       "      <td>0.001294</td>\n",
       "      <td>0.003389</td>\n",
       "      <td>0.007595</td>\n",
       "    </tr>\n",
       "    <tr>\n",
       "      <th>20000</th>\n",
       "      <td>0.001998</td>\n",
       "      <td>0.006334</td>\n",
       "      <td>0.010263</td>\n",
       "    </tr>\n",
       "  </tbody>\n",
       "</table>\n",
       "</div>"
      ],
      "text/plain": [
       "             method01  method02  method03\n",
       "sample_size                              \n",
       "100          0.000600  0.000646  0.003256\n",
       "500          0.000625  0.000767  0.003516\n",
       "1000         0.000664  0.000908  0.003605\n",
       "5000         0.001037  0.002019  0.004828\n",
       "10000        0.001294  0.003389  0.007595\n",
       "20000        0.001998  0.006334  0.010263"
      ]
     },
     "execution_count": 8,
     "metadata": {},
     "output_type": "execute_result"
    }
   ],
   "source": [
    "process_time_measure.process_time"
   ]
  },
  {
   "cell_type": "markdown",
   "metadata": {},
   "source": [
    "### 1000万件までのデータで方法1〜3を比較する"
   ]
  },
  {
   "cell_type": "code",
   "execution_count": 24,
   "metadata": {},
   "outputs": [
    {
     "data": {
      "image/png": "[encoded data removed]",
      "text/plain": [
       "<Figure size 432x288 with 1 Axes>"
      ]
     },
     "metadata": {
      "needs_background": "light"
     },
     "output_type": "display_data"
    }
   ],
   "source": [
    "TARGET_USER_ID = generate_target_user_id_list(10)\n",
    "process_time_measure = PandasProcessTimeMeasure(\n",
    "    data=item_data,\n",
    "    sample_sizes=[10000, 50000, 100000, 1000000, 10000000]\n",
    ")\n",
    "process_time_measure.set_method(name='method01', method=lambda x: method1(x, TARGET_USER_ID))\n",
    "process_time_measure.set_method(name='method02', method=lambda x: method2(x, TARGET_USER_ID))\n",
    "process_time_measure.set_method(name='method03', method=lambda x: method3(x, TARGET_USER_ID))\n",
    "process_time_measure.measure_process_time_for_each_sample_sizes()\n",
    "process_time_measure.plot_process_time()"
   ]
  },
  {
   "cell_type": "code",
   "execution_count": 25,
   "metadata": {},
   "outputs": [
    {
     "data": {
      "text/html": [
       "<div>\n",
       "<style scoped>\n",
       "    .dataframe tbody tr th:only-of-type {\n",
       "        vertical-align: middle;\n",
       "    }\n",
       "\n",
       "    .dataframe tbody tr th {\n",
       "        vertical-align: top;\n",
       "    }\n",
       "\n",
       "    .dataframe thead th {\n",
       "        text-align: right;\n",
       "    }\n",
       "</style>\n",
       "<table border=\"1\" class=\"dataframe\">\n",
       "  <thead>\n",
       "    <tr style=\"text-align: right;\">\n",
       "      <th></th>\n",
       "      <th>method01</th>\n",
       "      <th>method02</th>\n",
       "      <th>method03</th>\n",
       "    </tr>\n",
       "    <tr>\n",
       "      <th>sample_size</th>\n",
       "      <th></th>\n",
       "      <th></th>\n",
       "      <th></th>\n",
       "    </tr>\n",
       "  </thead>\n",
       "  <tbody>\n",
       "    <tr>\n",
       "      <th>10000</th>\n",
       "      <td>0.001141</td>\n",
       "      <td>0.004132</td>\n",
       "      <td>0.006308</td>\n",
       "    </tr>\n",
       "    <tr>\n",
       "      <th>50000</th>\n",
       "      <td>0.003832</td>\n",
       "      <td>0.018723</td>\n",
       "      <td>0.018103</td>\n",
       "    </tr>\n",
       "    <tr>\n",
       "      <th>100000</th>\n",
       "      <td>0.006693</td>\n",
       "      <td>0.037572</td>\n",
       "      <td>0.032707</td>\n",
       "    </tr>\n",
       "    <tr>\n",
       "      <th>1000000</th>\n",
       "      <td>0.062318</td>\n",
       "      <td>0.362686</td>\n",
       "      <td>0.356687</td>\n",
       "    </tr>\n",
       "    <tr>\n",
       "      <th>10000000</th>\n",
       "      <td>0.766330</td>\n",
       "      <td>3.711612</td>\n",
       "      <td>4.503969</td>\n",
       "    </tr>\n",
       "  </tbody>\n",
       "</table>\n",
       "</div>"
      ],
      "text/plain": [
       "             method01  method02  method03\n",
       "sample_size                              \n",
       "10000        0.001141  0.004132  0.006308\n",
       "50000        0.003832  0.018723  0.018103\n",
       "100000       0.006693  0.037572  0.032707\n",
       "1000000      0.062318  0.362686  0.356687\n",
       "10000000     0.766330  3.711612  4.503969"
      ]
     },
     "execution_count": 25,
     "metadata": {},
     "output_type": "execute_result"
    }
   ],
   "source": [
    "process_time_measure.process_time"
   ]
  },
  {
   "cell_type": "markdown",
   "metadata": {},
   "source": [
    "### 抽出対象ユーザー数を変化させて方法1〜3を検証"
   ]
  },
  {
   "cell_type": "code",
   "execution_count": 26,
   "metadata": {},
   "outputs": [
    {
     "data": {
      "image/png": "[encoded data removed]",
      "text/plain": [
       "<Figure size 432x288 with 1 Axes>"
      ]
     },
     "metadata": {
      "needs_background": "light"
     },
     "output_type": "display_data"
    }
   ],
   "source": [
    "TARGET_USER_ID = generate_target_user_id_list(100)\n",
    "process_time_measure = PandasProcessTimeMeasure(\n",
    "    data=item_data,\n",
    "    sample_sizes=[10000, 50000, 100000, 1000000, 10000000]\n",
    ")\n",
    "process_time_measure.set_method(name='method01', method=lambda x: method1(x, TARGET_USER_ID))\n",
    "process_time_measure.set_method(name='method02', method=lambda x: method2(x, TARGET_USER_ID))\n",
    "process_time_measure.set_method(name='method03', method=lambda x: method3(x, TARGET_USER_ID))\n",
    "process_time_measure.measure_process_time_for_each_sample_sizes()\n",
    "process_time_measure.plot_process_time()"
   ]
  },
  {
   "cell_type": "code",
   "execution_count": 30,
   "metadata": {},
   "outputs": [
    {
     "data": {
      "text/html": [
       "<div>\n",
       "<style scoped>\n",
       "    .dataframe tbody tr th:only-of-type {\n",
       "        vertical-align: middle;\n",
       "    }\n",
       "\n",
       "    .dataframe tbody tr th {\n",
       "        vertical-align: top;\n",
       "    }\n",
       "\n",
       "    .dataframe thead th {\n",
       "        text-align: right;\n",
       "    }\n",
       "</style>\n",
       "<table border=\"1\" class=\"dataframe\">\n",
       "  <thead>\n",
       "    <tr style=\"text-align: right;\">\n",
       "      <th></th>\n",
       "      <th></th>\n",
       "      <th>method01</th>\n",
       "      <th>method02</th>\n",
       "      <th>method03</th>\n",
       "    </tr>\n",
       "    <tr>\n",
       "      <th>sample_size</th>\n",
       "      <th>user_num</th>\n",
       "      <th></th>\n",
       "      <th></th>\n",
       "      <th></th>\n",
       "    </tr>\n",
       "  </thead>\n",
       "  <tbody>\n",
       "    <tr>\n",
       "      <th>10000</th>\n",
       "      <th>100</th>\n",
       "      <td>0.001220</td>\n",
       "      <td>0.012318</td>\n",
       "      <td>0.006921</td>\n",
       "    </tr>\n",
       "    <tr>\n",
       "      <th>50000</th>\n",
       "      <th>100</th>\n",
       "      <td>0.004808</td>\n",
       "      <td>0.059381</td>\n",
       "      <td>0.017635</td>\n",
       "    </tr>\n",
       "    <tr>\n",
       "      <th>100000</th>\n",
       "      <th>100</th>\n",
       "      <td>0.007025</td>\n",
       "      <td>0.118754</td>\n",
       "      <td>0.031300</td>\n",
       "    </tr>\n",
       "    <tr>\n",
       "      <th>1000000</th>\n",
       "      <th>100</th>\n",
       "      <td>0.059562</td>\n",
       "      <td>1.187032</td>\n",
       "      <td>0.322207</td>\n",
       "    </tr>\n",
       "    <tr>\n",
       "      <th>10000000</th>\n",
       "      <th>100</th>\n",
       "      <td>1.294282</td>\n",
       "      <td>11.883588</td>\n",
       "      <td>4.424374</td>\n",
       "    </tr>\n",
       "  </tbody>\n",
       "</table>\n",
       "</div>"
      ],
      "text/plain": [
       "                      method01   method02  method03\n",
       "sample_size user_num                               \n",
       "10000       100       0.001220   0.012318  0.006921\n",
       "50000       100       0.004808   0.059381  0.017635\n",
       "100000      100       0.007025   0.118754  0.031300\n",
       "1000000     100       0.059562   1.187032  0.322207\n",
       "10000000    100       1.294282  11.883588  4.424374"
      ]
     },
     "execution_count": 30,
     "metadata": {},
     "output_type": "execute_result"
    }
   ],
   "source": [
    "process_time_100 = process_time_measure.process_time.copy()\n",
    "user_num_index = pd.Series([100] * process_time_100.shape[0])\n",
    "user_num_index.name = 'user_num'\n",
    "process_time_100.set_index(user_num_index, append=True, inplace=True)\n",
    "process_time_100"
   ]
  },
  {
   "cell_type": "markdown",
   "metadata": {},
   "source": [
    "`method2`は遅いので除外し、`method1`と`method3`のみを比較する。"
   ]
  },
  {
   "cell_type": "code",
   "execution_count": 31,
   "metadata": {},
   "outputs": [
    {
     "data": {
      "image/png": "[encoded data removed]",
      "text/plain": [
       "<Figure size 432x288 with 1 Axes>"
      ]
     },
     "metadata": {
      "needs_background": "light"
     },
     "output_type": "display_data"
    }
   ],
   "source": [
    "TARGET_USER_ID = generate_target_user_id_list(500)\n",
    "process_time_measure = PandasProcessTimeMeasure(\n",
    "    data=item_data,\n",
    "    sample_sizes=[10000, 50000, 100000, 1000000, 10000000]\n",
    ")\n",
    "process_time_measure.set_method(name='method01', method=lambda x: method1(x, TARGET_USER_ID))\n",
    "process_time_measure.set_method(name='method03', method=lambda x: method3(x, TARGET_USER_ID))\n",
    "process_time_measure.measure_process_time_for_each_sample_sizes()\n",
    "process_time_measure.plot_process_time()"
   ]
  },
  {
   "cell_type": "code",
   "execution_count": 32,
   "metadata": {},
   "outputs": [
    {
     "data": {
      "image/png": "[encoded data removed]",
      "text/plain": [
       "<Figure size 432x288 with 1 Axes>"
      ]
     },
     "metadata": {
      "needs_background": "light"
     },
     "output_type": "display_data"
    }
   ],
   "source": [
    "TARGET_USER_ID = generate_target_user_id_list(1000)\n",
    "process_time_measure = PandasProcessTimeMeasure(\n",
    "    data=item_data,\n",
    "    sample_sizes=[10000, 50000, 100000, 1000000, 10000000]\n",
    ")\n",
    "process_time_measure.set_method(name='method01', method=lambda x: method1(x, TARGET_USER_ID))\n",
    "process_time_measure.set_method(name='method03', method=lambda x: method3(x, TARGET_USER_ID))\n",
    "process_time_measure.measure_process_time_for_each_sample_sizes()\n",
    "process_time_measure.plot_process_time()"
   ]
  },
  {
   "cell_type": "code",
   "execution_count": 33,
   "metadata": {},
   "outputs": [
    {
     "data": {
      "image/png": "[encoded data removed]",
      "text/plain": [
       "<Figure size 432x288 with 1 Axes>"
      ]
     },
     "metadata": {
      "needs_background": "light"
     },
     "output_type": "display_data"
    }
   ],
   "source": [
    "TARGET_USER_ID = generate_target_user_id_list(5000)\n",
    "process_time_measure = PandasProcessTimeMeasure(\n",
    "    data=item_data,\n",
    "    sample_sizes=[10000, 50000, 100000, 1000000, 10000000]\n",
    ")\n",
    "process_time_measure.set_method(name='method01', method=lambda x: method1(x, TARGET_USER_ID))\n",
    "process_time_measure.set_method(name='method03', method=lambda x: method3(x, TARGET_USER_ID))\n",
    "process_time_measure.measure_process_time_for_each_sample_sizes()\n",
    "process_time_measure.plot_process_time()"
   ]
  },
  {
   "cell_type": "code",
   "execution_count": null,
   "metadata": {},
   "outputs": [],
   "source": []
  }
 ],
 "metadata": {
  "kernelspec": {
   "display_name": "Python 3",
   "language": "python",
   "name": "python3"
  },
  "language_info": {
   "codemirror_mode": {
    "name": "ipython",
    "version": 3
   },
   "file_extension": ".py",
   "mimetype": "text/x-python",
   "name": "python",
   "nbconvert_exporter": "python",
   "pygments_lexer": "ipython3",
   "version": "3.6.6"
  }
 },
 "nbformat": 4,
 "nbformat_minor": 2
}
